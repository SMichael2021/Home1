{
  "nbformat": 4,
  "nbformat_minor": 0,
  "metadata": {
    "colab": {
      "name": "Калькулятор 23 марта",
      "provenance": [],
      "include_colab_link": true
    },
    "kernelspec": {
      "name": "python3",
      "display_name": "Python 3"
    },
    "language_info": {
      "name": "python"
    }
  },
  "cells": [
    {
      "cell_type": "markdown",
      "metadata": {
        "id": "view-in-github",
        "colab_type": "text"
      },
      "source": [
        "<a href=\"https://colab.research.google.com/github/SMichael2021/Home1/blob/main/%D0%9A%D0%B0%D0%BB%D1%8C%D0%BA%D1%83%D0%BB%D1%8F%D1%82%D0%BE%D1%80_23_%D0%BC%D0%B0%D1%80%D1%82%D0%B0.ipynb\" target=\"_parent\"><img src=\"https://colab.research.google.com/assets/colab-badge.svg\" alt=\"Open In Colab\"/></a>"
      ]
    },
    {
      "cell_type": "code",
      "source": [
        "def get_small_str(input_str, sym_count):\n",
        "  new_str = ''\n",
        "  for i in range(len(input_str)-sym_count):\n",
        "    new_str += input_str[i+sym_count]\n",
        "  \n",
        "  return new_str"
      ],
      "metadata": {
        "id": "5Zy5HOrwoWR2"
      },
      "execution_count": null,
      "outputs": []
    },
    {
      "cell_type": "code",
      "source": [
        "curr_val = 0\n",
        "curr_str = ''\n",
        "print('Текущее значение', curr_val)\n",
        "\n",
        "while curr_str != 'stop':\n",
        "  curr_str = input()\n",
        "\n",
        "  if curr_str[0] == '+':\n",
        "    new_str = get_small_str(curr_str, 1)\n",
        "    op_val = float(new_str)\n",
        "    curr_val += op_val\n",
        "  elif curr_str[0] == '-':\n",
        "    new_str = get_small_str(curr_str, 1)\n",
        "    op_val = float(new_str)\n",
        "    curr_val -= op_val\n",
        "  elif curr_str[0] == '*':\n",
        "    new_str = get_small_str(curr_str, 1)\n",
        "    op_val = float(new_str)\n",
        "    curr_val *= op_val\n",
        "  elif curr_str[0] == '/':\n",
        "    new_str = get_small_str(curr_str, 1)\n",
        "    op_val = float(new_str)\n",
        "    curr_val /= op_val\n",
        "  elif curr_str == 'round':\n",
        "    curr_val = int(curr_val)\n",
        "  elif (curr_str == 'clr') | (curr_str == 'clear'):\n",
        "    curr_val = 0\n",
        "  else:\n",
        "    curr_val = float(curr_str)\n",
        "\n",
        "  print('Текущее значение', curr_val)\n",
        "\n",
        "print()\n",
        "print('Спасибо, что воспользовались Калькулятором')"
      ],
      "metadata": {
        "colab": {
          "base_uri": "https://localhost:8080/",
          "height": 346
        },
        "id": "EiewzA2QlO6U",
        "outputId": "26c5f37a-d61c-4ffe-9db2-510ac1fea2a2"
      },
      "execution_count": null,
      "outputs": [
        {
          "name": "stdout",
          "output_type": "stream",
          "text": [
            "Текущее значение 0\n",
            "4\n",
            "Текущее значение 4.0\n",
            "clr\n",
            "Текущее значение 0\n",
            "stop\n"
          ]
        },
        {
          "output_type": "error",
          "ename": "ValueError",
          "evalue": "ignored",
          "traceback": [
            "\u001b[0;31m---------------------------------------------------------------------------\u001b[0m",
            "\u001b[0;31mValueError\u001b[0m                                Traceback (most recent call last)",
            "\u001b[0;32m<ipython-input-24-b23df07d59c6>\u001b[0m in \u001b[0;36m<module>\u001b[0;34m()\u001b[0m\n\u001b[1;32m     27\u001b[0m     \u001b[0mcurr_val\u001b[0m \u001b[0;34m=\u001b[0m \u001b[0;36m0\u001b[0m\u001b[0;34m\u001b[0m\u001b[0;34m\u001b[0m\u001b[0m\n\u001b[1;32m     28\u001b[0m   \u001b[0;32melse\u001b[0m\u001b[0;34m:\u001b[0m\u001b[0;34m\u001b[0m\u001b[0;34m\u001b[0m\u001b[0m\n\u001b[0;32m---> 29\u001b[0;31m     \u001b[0mcurr_val\u001b[0m \u001b[0;34m=\u001b[0m \u001b[0mfloat\u001b[0m\u001b[0;34m(\u001b[0m\u001b[0mcurr_str\u001b[0m\u001b[0;34m)\u001b[0m\u001b[0;34m\u001b[0m\u001b[0;34m\u001b[0m\u001b[0m\n\u001b[0m\u001b[1;32m     30\u001b[0m \u001b[0;34m\u001b[0m\u001b[0m\n\u001b[1;32m     31\u001b[0m   \u001b[0mprint\u001b[0m\u001b[0;34m(\u001b[0m\u001b[0;34m'Текущее значение'\u001b[0m\u001b[0;34m,\u001b[0m \u001b[0mcurr_val\u001b[0m\u001b[0;34m)\u001b[0m\u001b[0;34m\u001b[0m\u001b[0;34m\u001b[0m\u001b[0m\n",
            "\u001b[0;31mValueError\u001b[0m: could not convert string to float: 'stop'"
          ]
        }
      ]
    }
  ]
}