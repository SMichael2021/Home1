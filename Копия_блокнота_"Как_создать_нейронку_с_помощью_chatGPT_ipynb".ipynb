{
  "nbformat": 4,
  "nbformat_minor": 0,
  "metadata": {
    "colab": {
      "provenance": [],
      "include_colab_link": true
    },
    "kernelspec": {
      "name": "python3",
      "display_name": "Python 3"
    },
    "language_info": {
      "name": "python"
    }
  },
  "cells": [
    {
      "cell_type": "markdown",
      "metadata": {
        "id": "view-in-github",
        "colab_type": "text"
      },
      "source": [
        "<a href=\"https://colab.research.google.com/github/SMichael2021/Home1/blob/main/%D0%9A%D0%BE%D0%BF%D0%B8%D1%8F_%D0%B1%D0%BB%D0%BE%D0%BA%D0%BD%D0%BE%D1%82%D0%B0_%22%D0%9A%D0%B0%D0%BA_%D1%81%D0%BE%D0%B7%D0%B4%D0%B0%D1%82%D1%8C_%D0%BD%D0%B5%D0%B9%D1%80%D0%BE%D0%BD%D0%BA%D1%83_%D1%81_%D0%BF%D0%BE%D0%BC%D0%BE%D1%89%D1%8C%D1%8E_chatGPT_ipynb%22.ipynb\" target=\"_parent\"><img src=\"https://colab.research.google.com/assets/colab-badge.svg\" alt=\"Open In Colab\"/></a>"
      ]
    },
    {
      "cell_type": "markdown",
      "source": [
        "Для создания нейросети с помощью chatGPT необходимо составить очень подробную инструкцию, как организованы данные, в каком они находятся формате, какие папки содержит архив, что в них находится и как мы хотим, чтобы chatGPT их подготовил. Это - одна из самых важных частей инструкции. Надо отметить, что chatGPT не может что-то скачивать или разархивировать, поэтому и инструкции стоит делать в формате \"напиши код скачивания\" или \"напиши код разархивации\", вместо \"скачай\" или \"разархивируй\"."
      ],
      "metadata": {
        "id": "9sBvQIMwOhoW"
      }
    },
    {
      "cell_type": "markdown",
      "source": [
        "Рассказываем, как устроены наши данные, и как их нужно подготовить для подачи в сеть."
      ],
      "metadata": {
        "id": "W7LygSRUQ990"
      }
    },
    {
      "cell_type": "markdown",
      "source": [
        "## Запрос № 1 к ChatGPT:\n",
        "\n",
        "Напиши подготовку тенировочных данных для нейронной сети по классификации изображений, для этого для напиши код скачивания датасета при помощи gdown по этой ссылке 'https://storage.yandexcloud.net/aiueducation/marketing/datasets/reality.zip', и код разархивации датасета из zip формата в директорию 'content/cars'. Датасет не поделен на train и test. Он состоит из 10 папок, название каждой папки соответствует названию категории, каждый файл необходимо открыть при помощи Image.open, не используй генератор. Добавь в код масштабирование данных и приведи y_train  к формату one hot encoding. Используй LabelEncoder для кодирования строковых меток в целые числа. Определи список названий классов и количество классов. создай простую keras модель на получившихся данных\n"
      ],
      "metadata": {
        "id": "I_sMCRnKQuou"
      }
    },
    {
      "cell_type": "markdown",
      "source": [
        "## Ответ ChatGPT:"
      ],
      "metadata": {
        "id": "5I32ZwuKP7yt"
      }
    },
    {
      "cell_type": "code",
      "execution_count": null,
      "metadata": {
        "colab": {
          "base_uri": "https://localhost:8080/"
        },
        "id": "rm93JsILOCA-",
        "outputId": "a820f142-22ef-49d5-9d13-e53824eb16ca"
      },
      "outputs": [
        {
          "output_type": "stream",
          "name": "stderr",
          "text": [
            "Downloading...\n",
            "From: https://storage.yandexcloud.net/aiueducation/marketing/datasets/reality.zip\n",
            "To: /content/reality.zip\n",
            "100%|██████████| 127M/127M [00:05<00:00, 22.3MB/s]\n"
          ]
        }
      ],
      "source": [
        "import os\n",
        "import gdown\n",
        "import zipfile\n",
        "from PIL import Image\n",
        "from sklearn.preprocessing import LabelEncoder\n",
        "from sklearn.utils import shuffle\n",
        "from sklearn.model_selection import train_test_split\n",
        "import numpy as np\n",
        "from keras.utils import to_categorical\n",
        "from keras.models import Sequential\n",
        "from keras.layers import Dense, Flatten, Conv2D, MaxPooling2D\n",
        "\n",
        "# Скачиваем датасет\n",
        "url = 'https://storage.yandexcloud.net/aiueducation/marketing/datasets/reality.zip'\n",
        "gdown.download(url, 'reality.zip', quiet=False)\n",
        "\n",
        "# Распаковываем набор данных\n",
        "with zipfile.ZipFile(\"reality.zip\",\"r\") as zip_ref:\n",
        "    zip_ref.extractall(\"content/cars\")\n",
        "\n",
        "# Загружаем изображения и ярлыки\n",
        "X = []\n",
        "y = []\n",
        "classes = os.listdir(\"content/cars\")\n",
        "for i, class_name in enumerate(classes):\n",
        "    for image_name in os.listdir(\"content/cars/\" + class_name):\n",
        "        image = Image.open(\"content/cars/\" + class_name + \"/\" + image_name)\n",
        "        image = image.resize((64, 64))\n",
        "        X.append(np.array(image))\n",
        "        y.append(class_name)\n",
        "\n",
        "# Масштабируем данные\n",
        "X = np.array(X) / 255.0\n",
        "\n",
        "# Кодируем ярлыки\n",
        "label_encoder = LabelEncoder()\n",
        "y = label_encoder.fit_transform(y)\n",
        "\n",
        "# Приводим ярлыки к формату One-hot encoding\n",
        "num_classes = len(np.unique(y))\n",
        "y = to_categorical(y, num_classes)\n",
        "\n",
        "# Перемешиваем данные\n",
        "X, y = shuffle(X, y)\n",
        "\n",
        "# Делим набор данных на тренировочную и тестовую выборки\n",
        "X_train, X_test, y_train, y_test = train_test_split(X, y, test_size=0.2, random_state=42)\n",
        "\n",
        "# Создаем простую модель keras\n",
        "model = Sequential()\n",
        "model.add(Conv2D(32, (3, 3), activation='relu', input_shape=(64, 64, 3)))\n",
        "model.add(MaxPooling2D((2, 2)))\n",
        "model.add(Flatten())\n",
        "model.add(Dense(num_classes, activation='softmax'))\n",
        "model.compile(optimizer='adam', loss='categorical_crossentropy', metrics=['accuracy'])\n"
      ]
    },
    {
      "cell_type": "code",
      "source": [
        "num_classes"
      ],
      "metadata": {
        "colab": {
          "base_uri": "https://localhost:8080/"
        },
        "id": "xsBanBfGVp2T",
        "outputId": "22726628-c45d-4331-bec2-660707df75d2"
      },
      "execution_count": null,
      "outputs": [
        {
          "output_type": "execute_result",
          "data": {
            "text/plain": [
              "10"
            ]
          },
          "metadata": {},
          "execution_count": 2
        }
      ]
    },
    {
      "cell_type": "markdown",
      "source": [
        "Получаем код для запуска обучения, строим график. "
      ],
      "metadata": {
        "id": "abB2qQhdAf7H"
      }
    },
    {
      "cell_type": "markdown",
      "source": [
        "## Запрос № 2 к ChatGPT:\n",
        "Теперь напиши, как дополнить этот код, чтобы запустить обучение модели на 10 эпохах, построй график точности по эпохам"
      ],
      "metadata": {
        "id": "bxE1J8AhXGVH"
      }
    },
    {
      "cell_type": "markdown",
      "source": [
        "## Ответ ChatGPT:"
      ],
      "metadata": {
        "id": "Ii7YQnkCQFZ4"
      }
    },
    {
      "cell_type": "code",
      "source": [
        "import matplotlib.pyplot as plt\n",
        "\n",
        "# Обучаем модель\n",
        "history = model.fit(X_train, y_train, epochs=10, validation_data=(X_test, y_test))\n",
        "\n",
        "# Рисуем график точности по эпохам обучения\n",
        "plt.plot(history.history['accuracy'])\n",
        "plt.plot(history.history['val_accuracy'])\n",
        "plt.title('Model accuracy')\n",
        "plt.ylabel('Accuracy')\n",
        "plt.xlabel('Epoch')\n",
        "plt.legend(['Train', 'Test'], loc='upper left')\n",
        "plt.show()"
      ],
      "metadata": {
        "colab": {
          "base_uri": "https://localhost:8080/",
          "height": 642
        },
        "id": "73a2xkzrOfDV",
        "outputId": "d1bce70a-5afc-4eb9-b6a6-5ab76c76ad64"
      },
      "execution_count": null,
      "outputs": [
        {
          "output_type": "stream",
          "name": "stdout",
          "text": [
            "Epoch 1/10\n",
            "75/75 [==============================] - 8s 94ms/step - loss: 1.9109 - accuracy: 0.3858 - val_loss: 1.3016 - val_accuracy: 0.5767\n",
            "Epoch 2/10\n",
            "75/75 [==============================] - 4s 55ms/step - loss: 0.7641 - accuracy: 0.8100 - val_loss: 0.5502 - val_accuracy: 0.8700\n",
            "Epoch 3/10\n",
            "75/75 [==============================] - 5s 61ms/step - loss: 0.3117 - accuracy: 0.9417 - val_loss: 0.3001 - val_accuracy: 0.9450\n",
            "Epoch 4/10\n",
            "75/75 [==============================] - 4s 54ms/step - loss: 0.1682 - accuracy: 0.9754 - val_loss: 0.2510 - val_accuracy: 0.9467\n",
            "Epoch 5/10\n",
            "75/75 [==============================] - 5s 65ms/step - loss: 0.0876 - accuracy: 0.9912 - val_loss: 0.1702 - val_accuracy: 0.9583\n",
            "Epoch 6/10\n",
            "75/75 [==============================] - 4s 54ms/step - loss: 0.0569 - accuracy: 0.9958 - val_loss: 0.1529 - val_accuracy: 0.9600\n",
            "Epoch 7/10\n",
            "75/75 [==============================] - 4s 55ms/step - loss: 0.0358 - accuracy: 0.9987 - val_loss: 0.1035 - val_accuracy: 0.9817\n",
            "Epoch 8/10\n",
            "75/75 [==============================] - 5s 66ms/step - loss: 0.0246 - accuracy: 0.9992 - val_loss: 0.1043 - val_accuracy: 0.9767\n",
            "Epoch 9/10\n",
            "75/75 [==============================] - 4s 54ms/step - loss: 0.0173 - accuracy: 1.0000 - val_loss: 0.0891 - val_accuracy: 0.9800\n",
            "Epoch 10/10\n",
            "75/75 [==============================] - 4s 54ms/step - loss: 0.0120 - accuracy: 1.0000 - val_loss: 0.0893 - val_accuracy: 0.9733\n"
          ]
        },
        {
          "output_type": "display_data",
          "data": {
            "text/plain": [
              "<Figure size 432x288 with 1 Axes>"
            ],
            "image/png": "[encoded data removed]"
          },
          "metadata": {
            "needs_background": "light"
          }
        }
      ]
    },
    {
      "cell_type": "markdown",
      "source": [
        "*Текстовый комментарий chatGPT*\n",
        "\n",
        "Добавив этот код, мы запускаем обучение модели на 10 эпохах. Мы сохраняем результат обучения в переменной history, чтобы построить график точности модели по эпохам. Мы используем plt.plot() для отображения истории обучения из history.history['accuracy'] (точность на обучающем наборе) и history.history['val_accuracy'] (точность на тестовом наборе). И далее добавляем легенду и отображаем график."
      ],
      "metadata": {
        "id": "5r6xuty_X9Ey"
      }
    },
    {
      "cell_type": "markdown",
      "source": [
        "Пробуем создать более мощную модель, проверяем различные варианты batch_size"
      ],
      "metadata": {
        "id": "P2cFbVcMAxwR"
      }
    },
    {
      "cell_type": "markdown",
      "source": [
        "## Запрос № 3 к ChatGPT:\n",
        "\n",
        "Это слишком простая модель. Создай более мощную модель, код запуска обучения, график точности, проверь в цикле различные batch_size (32, 64, 128)"
      ],
      "metadata": {
        "id": "maU2Yg8MZykl"
      }
    },
    {
      "cell_type": "markdown",
      "source": [
        "## Ответ ChatGPT:"
      ],
      "metadata": {
        "id": "gENAfOGzQJrw"
      }
    },
    {
      "cell_type": "code",
      "source": [
        "from keras.layers import Dropout, BatchNormalization\n",
        "\n",
        "# Создаем более мощную модель\n",
        "model = Sequential()\n",
        "model.add(Conv2D(32, (3, 3), activation='relu', input_shape=(64, 64, 3)))\n",
        "model.add(BatchNormalization())\n",
        "model.add(MaxPooling2D((2, 2)))\n",
        "model.add(Conv2D(64, (3, 3), activation='relu'))\n",
        "model.add(BatchNormalization())\n",
        "model.add(MaxPooling2D((2, 2)))\n",
        "model.add(Conv2D(128, (3, 3), activation='relu'))\n",
        "model.add(BatchNormalization())\n",
        "model.add(MaxPooling2D((2, 2)))\n",
        "model.add(Flatten())\n",
        "model.add(Dropout(0.5))\n",
        "model.add(Dense(num_classes, activation='softmax'))\n",
        "model.compile(optimizer='adam', loss='categorical_crossentropy', metrics=['accuracy'])\n",
        "\n",
        "batch_sizes = [32, 64, 128]\n",
        "for batch_size in batch_sizes:\n",
        "    # Обучаем модель\n",
        "    history = model.fit(X_train, y_train, epochs=10, batch_size=batch_size, validation_data=(X_test, y_test))\n",
        "\n",
        "    # Рисуем график точности по эпохам обучения\n",
        "    plt.plot(history.history['accuracy'])\n",
        "    plt.plot(history.history['val_accuracy'])\n",
        "    plt.title(f'Model accuracy with batch size {batch_size}')\n",
        "    plt.ylabel('Accuracy')\n",
        "    plt.xlabel('Epoch')\n",
        "    plt.legend(['Train', 'Test'], loc='upper left')\n",
        "    plt.show()\n"
      ],
      "metadata": {
        "colab": {
          "base_uri": "https://localhost:8080/",
          "height": 1000
        },
        "id": "RTq_cOUrZxpn",
        "outputId": "208e25bd-0c9b-4159-858c-cd4f20662e79"
      },
      "execution_count": null,
      "outputs": [
        {
          "output_type": "stream",
          "name": "stdout",
          "text": [
            "Epoch 1/10\n",
            "75/75 [==============================] - 26s 328ms/step - loss: 2.7365 - accuracy: 0.3479 - val_loss: 2.4514 - val_accuracy: 0.1233\n",
            "Epoch 2/10\n",
            "75/75 [==============================] - 29s 383ms/step - loss: 1.1348 - accuracy: 0.6696 - val_loss: 2.4751 - val_accuracy: 0.1783\n",
            "Epoch 3/10\n",
            "75/75 [==============================] - 25s 340ms/step - loss: 0.5775 - accuracy: 0.8150 - val_loss: 2.8198 - val_accuracy: 0.3350\n",
            "Epoch 4/10\n",
            "75/75 [==============================] - 23s 303ms/step - loss: 0.4424 - accuracy: 0.8679 - val_loss: 2.4008 - val_accuracy: 0.4100\n",
            "Epoch 5/10\n",
            "75/75 [==============================] - 24s 319ms/step - loss: 0.2771 - accuracy: 0.9125 - val_loss: 2.0641 - val_accuracy: 0.4117\n",
            "Epoch 6/10\n",
            "75/75 [==============================] - 23s 310ms/step - loss: 0.2381 - accuracy: 0.9296 - val_loss: 1.0043 - val_accuracy: 0.7167\n",
            "Epoch 7/10\n",
            "75/75 [==============================] - 23s 311ms/step - loss: 0.1747 - accuracy: 0.9450 - val_loss: 0.6200 - val_accuracy: 0.8200\n",
            "Epoch 8/10\n",
            "75/75 [==============================] - 24s 318ms/step - loss: 0.1361 - accuracy: 0.9517 - val_loss: 0.1900 - val_accuracy: 0.9450\n",
            "Epoch 9/10\n",
            "75/75 [==============================] - 23s 307ms/step - loss: 0.1173 - accuracy: 0.9608 - val_loss: 0.2235 - val_accuracy: 0.9317\n",
            "Epoch 10/10\n",
            "75/75 [==============================] - 23s 305ms/step - loss: 0.0892 - accuracy: 0.9671 - val_loss: 0.2093 - val_accuracy: 0.9467\n"
          ]
        },
        {
          "output_type": "display_data",
          "data": {
            "text/plain": [
              "<Figure size 432x288 with 1 Axes>"
            ],
            "image/png": "[encoded data removed]"
          },
          "metadata": {
            "needs_background": "light"
          }
        },
        {
          "output_type": "stream",
          "name": "stdout",
          "text": [
            "Epoch 1/10\n",
            "38/38 [==============================] - 23s 598ms/step - loss: 0.0674 - accuracy: 0.9758 - val_loss: 0.0873 - val_accuracy: 0.9717\n",
            "Epoch 2/10\n",
            "38/38 [==============================] - 24s 622ms/step - loss: 0.0299 - accuracy: 0.9908 - val_loss: 0.0724 - val_accuracy: 0.9783\n",
            "Epoch 3/10\n",
            "38/38 [==============================] - 22s 589ms/step - loss: 0.0262 - accuracy: 0.9912 - val_loss: 0.0843 - val_accuracy: 0.9783\n",
            "Epoch 4/10\n",
            "38/38 [==============================] - 22s 585ms/step - loss: 0.0287 - accuracy: 0.9908 - val_loss: 0.1089 - val_accuracy: 0.9700\n",
            "Epoch 5/10\n",
            "38/38 [==============================] - 24s 639ms/step - loss: 0.0241 - accuracy: 0.9933 - val_loss: 0.0653 - val_accuracy: 0.9783\n",
            "Epoch 6/10\n",
            "38/38 [==============================] - 23s 596ms/step - loss: 0.0229 - accuracy: 0.9925 - val_loss: 0.1128 - val_accuracy: 0.9717\n",
            "Epoch 7/10\n",
            "38/38 [==============================] - 22s 586ms/step - loss: 0.0207 - accuracy: 0.9925 - val_loss: 0.0610 - val_accuracy: 0.9850\n",
            "Epoch 8/10\n",
            "38/38 [==============================] - 23s 607ms/step - loss: 0.0154 - accuracy: 0.9942 - val_loss: 0.0610 - val_accuracy: 0.9850\n",
            "Epoch 9/10\n",
            "38/38 [==============================] - 23s 594ms/step - loss: 0.0136 - accuracy: 0.9950 - val_loss: 0.0912 - val_accuracy: 0.9750\n",
            "Epoch 10/10\n",
            "38/38 [==============================] - 22s 588ms/step - loss: 0.0118 - accuracy: 0.9971 - val_loss: 0.0564 - val_accuracy: 0.9800\n"
          ]
        },
        {
          "output_type": "display_data",
          "data": {
            "text/plain": [
              "<Figure size 432x288 with 1 Axes>"
            ],
            "image/png": "[encoded data removed]"
          },
          "metadata": {
            "needs_background": "light"
          }
        },
        {
          "output_type": "stream",
          "name": "stdout",
          "text": [
            "Epoch 1/10\n",
            "19/19 [==============================] - 22s 1s/step - loss: 0.0113 - accuracy: 0.9962 - val_loss: 0.0592 - val_accuracy: 0.9817\n",
            "Epoch 2/10\n",
            "19/19 [==============================] - 23s 1s/step - loss: 0.0116 - accuracy: 0.9954 - val_loss: 0.0653 - val_accuracy: 0.9800\n",
            "Epoch 3/10\n",
            "19/19 [==============================] - 22s 1s/step - loss: 0.0046 - accuracy: 0.9983 - val_loss: 0.0737 - val_accuracy: 0.9717\n",
            "Epoch 4/10\n",
            "19/19 [==============================] - 23s 1s/step - loss: 0.0076 - accuracy: 0.9975 - val_loss: 0.0635 - val_accuracy: 0.9783\n",
            "Epoch 5/10\n",
            "19/19 [==============================] - 23s 1s/step - loss: 0.0076 - accuracy: 0.9979 - val_loss: 0.0800 - val_accuracy: 0.9750\n",
            "Epoch 6/10\n",
            "19/19 [==============================] - 23s 1s/step - loss: 0.0058 - accuracy: 0.9975 - val_loss: 0.0674 - val_accuracy: 0.9783\n",
            "Epoch 7/10\n",
            "19/19 [==============================] - 22s 1s/step - loss: 0.0064 - accuracy: 0.9983 - val_loss: 0.0716 - val_accuracy: 0.9750\n",
            "Epoch 8/10\n",
            "19/19 [==============================] - 22s 1s/step - loss: 0.0062 - accuracy: 0.9975 - val_loss: 0.0753 - val_accuracy: 0.9750\n",
            "Epoch 9/10\n",
            "19/19 [==============================] - 22s 1s/step - loss: 0.0029 - accuracy: 1.0000 - val_loss: 0.0749 - val_accuracy: 0.9767\n",
            "Epoch 10/10\n",
            "19/19 [==============================] - 22s 1s/step - loss: 0.0026 - accuracy: 1.0000 - val_loss: 0.0705 - val_accuracy: 0.9800\n"
          ]
        },
        {
          "output_type": "display_data",
          "data": {
            "text/plain": [
              "<Figure size 432x288 with 1 Axes>"
            ],
            "image/png": "[encoded data removed]"
          },
          "metadata": {
            "needs_background": "light"
          }
        }
      ]
    },
    {
      "cell_type": "markdown",
      "source": [
        "Получилось не совсем то, что мы хотели - код, созданный chatGPT не проверяет точность при разных batch_size, а дообучает модель на их разных размерах. Необходимо было более точно составить запрос."
      ],
      "metadata": {
        "id": "msIMFg6HBFbR"
      }
    },
    {
      "cell_type": "markdown",
      "source": [
        "## Запрос № 4 к ChatGPT:\n",
        "\n",
        "Сделай код запуска этой модели в цикле с разными размерами batch_size (32, 64, 128), выведи график точности по кажому запуску"
      ],
      "metadata": {
        "id": "elYS_EMbEkPV"
      }
    },
    {
      "cell_type": "markdown",
      "source": [
        "## Ответ ChatGPT:"
      ],
      "metadata": {
        "id": "pGQCq9XyQXs5"
      }
    },
    {
      "cell_type": "code",
      "source": [
        "batch_size_list = [32, 64, 128]\n",
        "\n",
        "for batch_size in batch_size_list:\n",
        "    # Создаем более мощную модель\n",
        "    model = Sequential()\n",
        "    model.add(Conv2D(32, (3, 3), activation='relu', input_shape=(64, 64, 3)))\n",
        "    model.add(BatchNormalization())\n",
        "    model.add(MaxPooling2D((2, 2)))\n",
        "    model.add(Conv2D(64, (3, 3), activation='relu'))\n",
        "    model.add(BatchNormalization())\n",
        "    model.add(MaxPooling2D((2, 2)))\n",
        "    model.add(Conv2D(128, (3, 3), activation='relu'))\n",
        "    model.add(BatchNormalization())\n",
        "    model.add(MaxPooling2D((2, 2)))\n",
        "    model.add(Flatten())\n",
        "    model.add(Dropout(0.5))\n",
        "    model.add(Dense(num_classes, activation='softmax'))\n",
        "    model.compile(optimizer='adam', loss='categorical_crossentropy', metrics=['accuracy'])\n",
        "    \n",
        "    # Обучаем модель\n",
        "    history = model.fit(X_train, y_train, epochs=10, batch_size=batch_size, validation_data=(X_test, y_test))\n",
        "    \n",
        "    # Рисуем график точности по эпохам обучения\n",
        "    plt.plot(history.history['accuracy'], label=f'batch size: {batch_size}')\n",
        "    plt.title('Model accuracy with different batch sizes')\n",
        "    plt.ylabel('Accuracy')\n",
        "    plt.xlabel('Epoch')\n",
        "    plt.legend(loc='upper left')\n",
        "    plt.show()"
      ],
      "metadata": {
        "colab": {
          "base_uri": "https://localhost:8080/",
          "height": 1000
        },
        "id": "_8vMbZleEsfA",
        "outputId": "70b27468-42d9-43f1-ec7a-04593b43fccc"
      },
      "execution_count": null,
      "outputs": [
        {
          "output_type": "stream",
          "name": "stdout",
          "text": [
            "Epoch 1/10\n",
            "75/75 [==============================] - 34s 439ms/step - loss: 2.6221 - accuracy: 0.3725 - val_loss: 2.5874 - val_accuracy: 0.0917\n",
            "Epoch 2/10\n",
            "75/75 [==============================] - 23s 308ms/step - loss: 1.0892 - accuracy: 0.6767 - val_loss: 2.9518 - val_accuracy: 0.0783\n",
            "Epoch 3/10\n",
            "75/75 [==============================] - 23s 310ms/step - loss: 0.5626 - accuracy: 0.8250 - val_loss: 2.2848 - val_accuracy: 0.2550\n",
            "Epoch 4/10\n",
            "75/75 [==============================] - 24s 318ms/step - loss: 0.4171 - accuracy: 0.8679 - val_loss: 2.3741 - val_accuracy: 0.3317\n",
            "Epoch 5/10\n",
            "75/75 [==============================] - 32s 435ms/step - loss: 0.2462 - accuracy: 0.9225 - val_loss: 1.9876 - val_accuracy: 0.3817\n",
            "Epoch 6/10\n",
            "75/75 [==============================] - 31s 416ms/step - loss: 0.2302 - accuracy: 0.9254 - val_loss: 0.5928 - val_accuracy: 0.8250\n",
            "Epoch 7/10\n",
            "75/75 [==============================] - 25s 337ms/step - loss: 0.1329 - accuracy: 0.9500 - val_loss: 0.3403 - val_accuracy: 0.9050\n",
            "Epoch 8/10\n",
            "75/75 [==============================] - 27s 361ms/step - loss: 0.1337 - accuracy: 0.9558 - val_loss: 0.1781 - val_accuracy: 0.9533\n",
            "Epoch 9/10\n",
            "75/75 [==============================] - 25s 329ms/step - loss: 0.1323 - accuracy: 0.9588 - val_loss: 0.1568 - val_accuracy: 0.9450\n",
            "Epoch 10/10\n",
            "75/75 [==============================] - 26s 350ms/step - loss: 0.1138 - accuracy: 0.9667 - val_loss: 0.1612 - val_accuracy: 0.9567\n"
          ]
        },
        {
          "output_type": "display_data",
          "data": {
            "text/plain": [
              "<Figure size 432x288 with 1 Axes>"
            ],
            "image/png": "[encoded data removed]"
          },
          "metadata": {
            "needs_background": "light"
          }
        },
        {
          "output_type": "stream",
          "name": "stdout",
          "text": [
            "Epoch 1/10\n",
            "38/38 [==============================] - 28s 720ms/step - loss: 2.9534 - accuracy: 0.3038 - val_loss: 2.3186 - val_accuracy: 0.1133\n",
            "Epoch 2/10\n",
            "38/38 [==============================] - 25s 664ms/step - loss: 1.2082 - accuracy: 0.6342 - val_loss: 2.5612 - val_accuracy: 0.1317\n",
            "Epoch 3/10\n",
            "38/38 [==============================] - 26s 695ms/step - loss: 0.7120 - accuracy: 0.7825 - val_loss: 2.9321 - val_accuracy: 0.1050\n",
            "Epoch 4/10\n",
            "38/38 [==============================] - 26s 697ms/step - loss: 0.4189 - accuracy: 0.8617 - val_loss: 3.2775 - val_accuracy: 0.1033\n",
            "Epoch 5/10\n",
            "38/38 [==============================] - 24s 624ms/step - loss: 0.3223 - accuracy: 0.8917 - val_loss: 3.5597 - val_accuracy: 0.1033\n",
            "Epoch 6/10\n",
            "38/38 [==============================] - 27s 699ms/step - loss: 0.2404 - accuracy: 0.9192 - val_loss: 4.6531 - val_accuracy: 0.1033\n",
            "Epoch 7/10\n",
            "38/38 [==============================] - 25s 673ms/step - loss: 0.1789 - accuracy: 0.9383 - val_loss: 4.6891 - val_accuracy: 0.1033\n",
            "Epoch 8/10\n",
            "38/38 [==============================] - 23s 603ms/step - loss: 0.1475 - accuracy: 0.9496 - val_loss: 4.7726 - val_accuracy: 0.1050\n",
            "Epoch 9/10\n",
            "38/38 [==============================] - 27s 706ms/step - loss: 0.1002 - accuracy: 0.9638 - val_loss: 3.5680 - val_accuracy: 0.1333\n",
            "Epoch 10/10\n",
            "38/38 [==============================] - 34s 897ms/step - loss: 0.0862 - accuracy: 0.9725 - val_loss: 2.1513 - val_accuracy: 0.3283\n"
          ]
        },
        {
          "output_type": "display_data",
          "data": {
            "text/plain": [
              "<Figure size 432x288 with 1 Axes>"
            ],
            "image/png": "[encoded data removed]"
          },
          "metadata": {
            "needs_background": "light"
          }
        },
        {
          "output_type": "stream",
          "name": "stdout",
          "text": [
            "Epoch 1/10\n",
            "19/19 [==============================] - 25s 1s/step - loss: 3.2202 - accuracy: 0.2646 - val_loss: 2.2656 - val_accuracy: 0.0867\n",
            "Epoch 2/10\n",
            "19/19 [==============================] - 23s 1s/step - loss: 1.4382 - accuracy: 0.5629 - val_loss: 2.3426 - val_accuracy: 0.0767\n",
            "Epoch 3/10\n",
            "19/19 [==============================] - 32s 2s/step - loss: 0.8945 - accuracy: 0.7175 - val_loss: 2.3755 - val_accuracy: 0.1350\n",
            "Epoch 4/10\n",
            "19/19 [==============================] - 24s 1s/step - loss: 0.6392 - accuracy: 0.7979 - val_loss: 2.5453 - val_accuracy: 0.0767\n",
            "Epoch 5/10\n",
            "19/19 [==============================] - 23s 1s/step - loss: 0.3792 - accuracy: 0.8771 - val_loss: 2.4882 - val_accuracy: 0.0817\n",
            "Epoch 6/10\n",
            "19/19 [==============================] - 25s 1s/step - loss: 0.2787 - accuracy: 0.9075 - val_loss: 2.5827 - val_accuracy: 0.1017\n",
            "Epoch 7/10\n",
            "19/19 [==============================] - 24s 1s/step - loss: 0.2386 - accuracy: 0.9183 - val_loss: 2.5586 - val_accuracy: 0.1650\n",
            "Epoch 8/10\n",
            "19/19 [==============================] - 23s 1s/step - loss: 0.1752 - accuracy: 0.9400 - val_loss: 2.5922 - val_accuracy: 0.2367\n",
            "Epoch 9/10\n",
            "19/19 [==============================] - 23s 1s/step - loss: 0.1411 - accuracy: 0.9563 - val_loss: 2.5678 - val_accuracy: 0.1267\n",
            "Epoch 10/10\n",
            "19/19 [==============================] - 23s 1s/step - loss: 0.1210 - accuracy: 0.9554 - val_loss: 2.4314 - val_accuracy: 0.1867\n"
          ]
        },
        {
          "output_type": "display_data",
          "data": {
            "text/plain": [
              "<Figure size 432x288 with 1 Axes>"
            ],
            "image/png": "[encoded data removed]"
          },
          "metadata": {
            "needs_background": "light"
          }
        }
      ]
    },
    {
      "cell_type": "markdown",
      "source": [
        "Таким образом, мы получили (хоть и не с первого раза) то, что мы хотели (почти). Стоило добавить, что графики нужно было отрисовывать по точности на проверочной выборке."
      ],
      "metadata": {
        "id": "lhlh3p3UG3pd"
      }
    },
    {
      "cell_type": "markdown",
      "source": [
        "## Запрос № 5 к ChatGPT:\n",
        "\n",
        "Как увеличить аккураси нашей модели?"
      ],
      "metadata": {
        "id": "_mBSGNtDb__6"
      }
    },
    {
      "cell_type": "markdown",
      "source": [
        "## Ответ ChatGPT:"
      ],
      "metadata": {
        "id": "6CodWZ8rQbPx"
      }
    },
    {
      "cell_type": "markdown",
      "source": [
        "Есть различные способы увеличить точность модели:\n",
        "\n",
        "1. Использование более мощной модели: использование большего количества сверточных слоев, нейронов и слоев связи.\n",
        "\n",
        "2. Использование более большого датасета: использование большего количества данных для обучения модели может увеличить точность.\n",
        "\n",
        "3. Дополнительная аугментация данных: использование аугментации данных, такой как повороты, масштабирование и другие, может помочь модели обобщаться на новые данные.\n",
        "\n",
        "4. Использование сверточных сетей предварительно обученных (Transfer Learning): использование предварительно обученных сверточных сетей может существенно увеличить точность модели.\n",
        "\n",
        "5. Использование другой оптимизации и другой функции потерь для обучения модели: использование более эффективных алгоритмов оптимизации, таких как Adam, RMSprop или Adagrad и использование более подходящей функции потерь для задачи классификации, такой как categorical_crossentropy или sparse_categorical_crossentropy может помочь улучшить точность модели.\n",
        "\n",
        "6. Использование регуляризации: использование регуляризации, такой как L1 и L2, может помочь предотвратить переобучение модели.\n",
        "\n",
        "7. Использование стандартизации данных: использование стандартизации данных может помочь сделать данные более однородными и улучшить точность модели."
      ],
      "metadata": {
        "id": "g21PLJYSdMYm"
      }
    },
    {
      "cell_type": "markdown",
      "source": [
        "## Запрос № 6\n",
        "\n",
        "Сделай в цикле проверку точности последней модели с разными оптимизаторами и выведи график сравнения полученных точностей\n",
        "\n"
      ],
      "metadata": {
        "id": "P-dkmVo7-ReK"
      }
    },
    {
      "cell_type": "markdown",
      "source": [
        "## Ответ ChatGPT:"
      ],
      "metadata": {
        "id": "e0DIaSR_QeG9"
      }
    },
    {
      "cell_type": "code",
      "source": [
        "from keras import optimizers\n",
        "\n",
        "optimizer_list = ['adam', 'sgd', 'rmsprop', 'adagrad']\n",
        "\n",
        "for optimizer in optimizer_list:\n",
        "    # Создаем более мощную модель\n",
        "    model = Sequential()\n",
        "    model.add(Conv2D(32, (3, 3), activation='relu', input_shape=(64, 64, 3)))\n",
        "    model.add(BatchNormalization())\n",
        "    model.add(MaxPooling2D((2, 2)))\n",
        "    model.add(Conv2D(64, (3, 3), activation='relu'))\n",
        "    model.add(BatchNormalization())\n",
        "    model.add(MaxPooling2D((2, 2)))\n",
        "    model.add(Conv2D(128, (3, 3), activation='relu'))\n",
        "    model.add(BatchNormalization())\n",
        "    model.add(MaxPooling2D((2, 2)))\n",
        "    model.add(Flatten())\n",
        "    model.add(Dropout(0.5))\n",
        "    model.add(Dense(num_classes, activation='softmax'))\n",
        "    model.compile(optimizer=optimizer, loss='categorical_crossentropy', metrics=['accuracy'])\n",
        "    \n",
        "    # Обучаем модель\n",
        "    history = model.fit(X_train, y_train, epochs=10, batch_size=32, validation_data=(X_test, y_test))\n",
        "    \n",
        "    # Рисуем график точности по эпохам обучения\n",
        "    plt.plot(history.history['accuracy'], label=optimizer)\n",
        "    plt.title('Model accuracy with different optimizers')\n",
        "    plt.ylabel('Accuracy')\n",
        "    plt.xlabel('Epoch')\n",
        "    plt.legend(loc='upper left')\n",
        "plt.show()\n"
      ],
      "metadata": {
        "colab": {
          "base_uri": "https://localhost:8080/",
          "height": 1000
        },
        "id": "_HhuJ0P0cozu",
        "outputId": "787bd097-97ba-458e-c377-e58b99e858e9"
      },
      "execution_count": null,
      "outputs": [
        {
          "output_type": "stream",
          "name": "stdout",
          "text": [
            "Epoch 1/10\n",
            "75/75 [==============================] - 23s 304ms/step - loss: 2.8259 - accuracy: 0.3358 - val_loss: 2.4004 - val_accuracy: 0.1133\n",
            "Epoch 2/10\n",
            "75/75 [==============================] - 23s 305ms/step - loss: 1.2947 - accuracy: 0.6246 - val_loss: 3.2331 - val_accuracy: 0.1733\n",
            "Epoch 3/10\n",
            "75/75 [==============================] - 23s 302ms/step - loss: 0.7339 - accuracy: 0.7758 - val_loss: 3.2309 - val_accuracy: 0.1517\n",
            "Epoch 4/10\n",
            "75/75 [==============================] - 23s 306ms/step - loss: 0.5542 - accuracy: 0.8296 - val_loss: 4.1638 - val_accuracy: 0.1183\n",
            "Epoch 5/10\n",
            "75/75 [==============================] - 23s 306ms/step - loss: 0.3883 - accuracy: 0.8746 - val_loss: 1.9678 - val_accuracy: 0.4583\n",
            "Epoch 6/10\n",
            "75/75 [==============================] - 22s 298ms/step - loss: 0.2941 - accuracy: 0.9067 - val_loss: 2.3459 - val_accuracy: 0.3700\n",
            "Epoch 7/10\n",
            "75/75 [==============================] - 23s 308ms/step - loss: 0.2303 - accuracy: 0.9287 - val_loss: 0.5580 - val_accuracy: 0.7817\n",
            "Epoch 8/10\n",
            "75/75 [==============================] - 23s 306ms/step - loss: 0.1555 - accuracy: 0.9458 - val_loss: 0.4541 - val_accuracy: 0.8317\n",
            "Epoch 9/10\n",
            "75/75 [==============================] - 23s 302ms/step - loss: 0.1598 - accuracy: 0.9496 - val_loss: 0.1891 - val_accuracy: 0.9417\n",
            "Epoch 10/10\n",
            "75/75 [==============================] - 23s 306ms/step - loss: 0.1329 - accuracy: 0.9554 - val_loss: 0.1558 - val_accuracy: 0.9500\n",
            "Epoch 1/10\n",
            "75/75 [==============================] - 24s 307ms/step - loss: 4.8927 - accuracy: 0.2663 - val_loss: 2.2067 - val_accuracy: 0.0850\n",
            "Epoch 2/10\n",
            "75/75 [==============================] - 23s 307ms/step - loss: 1.9142 - accuracy: 0.5367 - val_loss: 2.7565 - val_accuracy: 0.0967\n",
            "Epoch 3/10\n",
            "75/75 [==============================] - 23s 307ms/step - loss: 1.0974 - accuracy: 0.7000 - val_loss: 2.7160 - val_accuracy: 0.2117\n",
            "Epoch 4/10\n",
            "75/75 [==============================] - 23s 302ms/step - loss: 0.7692 - accuracy: 0.7729 - val_loss: 2.2051 - val_accuracy: 0.3450\n",
            "Epoch 5/10\n",
            "75/75 [==============================] - 23s 313ms/step - loss: 0.6628 - accuracy: 0.8092 - val_loss: 0.9011 - val_accuracy: 0.7100\n",
            "Epoch 6/10\n",
            "75/75 [==============================] - 23s 302ms/step - loss: 0.4760 - accuracy: 0.8571 - val_loss: 0.8278 - val_accuracy: 0.7000\n",
            "Epoch 7/10\n",
            "75/75 [==============================] - 23s 305ms/step - loss: 0.3321 - accuracy: 0.8921 - val_loss: 0.3073 - val_accuracy: 0.9167\n",
            "Epoch 8/10\n",
            "75/75 [==============================] - 24s 315ms/step - loss: 0.2784 - accuracy: 0.9092 - val_loss: 0.2891 - val_accuracy: 0.9033\n",
            "Epoch 9/10\n",
            "75/75 [==============================] - 23s 313ms/step - loss: 0.2287 - accuracy: 0.9221 - val_loss: 0.1896 - val_accuracy: 0.9467\n",
            "Epoch 10/10\n",
            "75/75 [==============================] - 23s 310ms/step - loss: 0.1787 - accuracy: 0.9438 - val_loss: 0.1561 - val_accuracy: 0.9483\n",
            "Epoch 1/10\n",
            "75/75 [==============================] - 25s 324ms/step - loss: 3.3065 - accuracy: 0.3321 - val_loss: 2.7154 - val_accuracy: 0.0767\n",
            "Epoch 2/10\n",
            "75/75 [==============================] - 22s 299ms/step - loss: 1.5746 - accuracy: 0.5987 - val_loss: 3.1829 - val_accuracy: 0.1500\n",
            "Epoch 3/10\n",
            "75/75 [==============================] - 22s 300ms/step - loss: 0.9479 - accuracy: 0.7462 - val_loss: 2.5840 - val_accuracy: 0.3183\n",
            "Epoch 4/10\n",
            "75/75 [==============================] - 23s 301ms/step - loss: 0.5518 - accuracy: 0.8375 - val_loss: 2.6462 - val_accuracy: 0.2400\n",
            "Epoch 5/10\n",
            "75/75 [==============================] - 22s 300ms/step - loss: 0.4474 - accuracy: 0.8725 - val_loss: 1.3805 - val_accuracy: 0.5267\n",
            "Epoch 6/10\n",
            "75/75 [==============================] - 23s 304ms/step - loss: 0.3263 - accuracy: 0.9062 - val_loss: 1.0722 - val_accuracy: 0.6600\n",
            "Epoch 7/10\n",
            "75/75 [==============================] - 23s 304ms/step - loss: 0.2616 - accuracy: 0.9187 - val_loss: 0.3369 - val_accuracy: 0.8700\n",
            "Epoch 8/10\n",
            "75/75 [==============================] - 24s 324ms/step - loss: 0.2465 - accuracy: 0.9325 - val_loss: 0.3488 - val_accuracy: 0.8833\n",
            "Epoch 9/10\n",
            "75/75 [==============================] - 23s 310ms/step - loss: 0.2112 - accuracy: 0.9425 - val_loss: 0.2634 - val_accuracy: 0.9217\n",
            "Epoch 10/10\n",
            "75/75 [==============================] - 23s 309ms/step - loss: 0.1619 - accuracy: 0.9500 - val_loss: 0.2255 - val_accuracy: 0.9183\n",
            "Epoch 1/10\n",
            "75/75 [==============================] - 25s 324ms/step - loss: 3.4068 - accuracy: 0.2017 - val_loss: 2.3500 - val_accuracy: 0.1233\n",
            "Epoch 2/10\n",
            "75/75 [==============================] - 23s 309ms/step - loss: 2.2130 - accuracy: 0.3812 - val_loss: 2.4532 - val_accuracy: 0.1450\n",
            "Epoch 3/10\n",
            "75/75 [==============================] - 23s 309ms/step - loss: 1.8476 - accuracy: 0.4512 - val_loss: 2.4507 - val_accuracy: 0.1900\n",
            "Epoch 4/10\n",
            "75/75 [==============================] - 23s 309ms/step - loss: 1.5149 - accuracy: 0.5229 - val_loss: 2.2538 - val_accuracy: 0.2417\n",
            "Epoch 5/10\n",
            "75/75 [==============================] - 24s 316ms/step - loss: 1.3003 - accuracy: 0.5858 - val_loss: 1.9050 - val_accuracy: 0.4133\n",
            "Epoch 6/10\n",
            "75/75 [==============================] - 24s 318ms/step - loss: 1.1234 - accuracy: 0.6313 - val_loss: 1.4626 - val_accuracy: 0.5600\n",
            "Epoch 7/10\n",
            "75/75 [==============================] - 23s 308ms/step - loss: 1.0471 - accuracy: 0.6525 - val_loss: 1.0231 - val_accuracy: 0.7000\n",
            "Epoch 8/10\n",
            "75/75 [==============================] - 24s 315ms/step - loss: 0.9348 - accuracy: 0.6938 - val_loss: 0.7028 - val_accuracy: 0.8167\n",
            "Epoch 9/10\n",
            "75/75 [==============================] - 23s 313ms/step - loss: 0.8660 - accuracy: 0.7125 - val_loss: 0.5154 - val_accuracy: 0.8767\n",
            "Epoch 10/10\n",
            "75/75 [==============================] - 24s 316ms/step - loss: 0.8115 - accuracy: 0.7279 - val_loss: 0.4218 - val_accuracy: 0.8967\n"
          ]
        },
        {
          "output_type": "display_data",
          "data": {
            "text/plain": [
              "<Figure size 432x288 with 1 Axes>"
            ],
            "image/png": "[encoded data removed]"
          },
          "metadata": {
            "needs_background": "light"
          }
        }
      ]
    },
    {
      "cell_type": "markdown",
      "source": [
        "*Комментарий ChatGPT:*\n",
        "\n",
        "*В этом коде используется цикл for, чтобы протестировать точность модели с различными оптимизаторами и отобразить график сравнения полученных точностей. В каждой итерации цикла инициализируется модель с различным оптимизатором, затем обучается и отображается график точности по эпохам для каждого оптимизатора. В конце цикла график отображается с использованием plt.show(), чтобы можно было сравнить точности моделей с различными оптимизаторами.*"
      ],
      "metadata": {
        "id": "n3DSffKC_By2"
      }
    },
    {
      "cell_type": "markdown",
      "source": [
        "Попробуем изменить некоторые параметры модели, дав точные указания."
      ],
      "metadata": {
        "id": "jD0uragFHvK6"
      }
    },
    {
      "cell_type": "markdown",
      "source": [
        "## Запрос № 6 к ChatGPT:\n",
        "\n",
        "Напиши код запуска предыдущей модели, заменив Flatten на GlobalMaxPooling2D, оптимизатор Adam, batch_size = 32, добавь слой Dropout после каждого BatchNormalization. Выведи график обучения на проверочной выборке (в этот раз не допустим недосказанности и уточним, по какой выборке следует отрисовывать графики)"
      ],
      "metadata": {
        "id": "ldsR5gVDIBCB"
      }
    },
    {
      "cell_type": "markdown",
      "source": [
        "## Ответ ChatGPT:"
      ],
      "metadata": {
        "id": "XkxWhwb0QhfJ"
      }
    },
    {
      "cell_type": "code",
      "source": [
        "# Создаем более мощную модель\n",
        "model = Sequential()\n",
        "model.add(Conv2D(32, (3, 3), activation='relu', input_shape=(64, 64, 3)))\n",
        "model.add(BatchNormalization())\n",
        "model.add(Dropout(0.5))\n",
        "model.add(MaxPooling2D((2, 2)))\n",
        "model.add(Conv2D(64, (3, 3), activation='relu'))\n",
        "model.add(BatchNormalization())\n",
        "model.add(Dropout(0.5))\n",
        "model.add(MaxPooling2D((2, 2)))\n",
        "model.add(Conv2D(128, (3, 3), activation='relu'))\n",
        "model.add(BatchNormalization())\n",
        "model.add(Dropout(0.5))\n",
        "model.add(MaxPooling2D((2, 2)))\n",
        "model.add(GlobalMaxPooling2D())\n",
        "model.add(Dense(num_classes, activation='softmax'))\n",
        "model.compile(optimizer='adam', loss='categorical_crossentropy', metrics=['accuracy'])\n",
        "\n",
        "# Обучаем модель\n",
        "history = model.fit(X_train, y_train, epochs=10, batch_size=32, validation_data=(X_test, y_test))\n",
        "\n",
        "# Рисуем график точности по эпохам обучения\n",
        "plt.plot(history.history['val_accuracy'])\n",
        "plt.title('Model accuracy with GlobalMaxPooling2D')\n",
        "plt.ylabel('Accuracy')\n",
        "plt.xlabel('Epoch')\n",
        "plt.show()\n"
      ],
      "metadata": {
        "colab": {
          "base_uri": "https://localhost:8080/",
          "height": 244
        },
        "id": "BhTnk-XSHuFi",
        "outputId": "dd7e03ac-67a6-4bc4-e051-6ca435ffdbca"
      },
      "execution_count": null,
      "outputs": [
        {
          "output_type": "error",
          "ename": "NameError",
          "evalue": "ignored",
          "traceback": [
            "\u001b[0;31m---------------------------------------------------------------------------\u001b[0m",
            "\u001b[0;31mNameError\u001b[0m                                 Traceback (most recent call last)",
            "\u001b[0;32m<ipython-input-7-c4f01208aac5>\u001b[0m in \u001b[0;36m<module>\u001b[0;34m\u001b[0m\n\u001b[1;32m     13\u001b[0m \u001b[0mmodel\u001b[0m\u001b[0;34m.\u001b[0m\u001b[0madd\u001b[0m\u001b[0;34m(\u001b[0m\u001b[0mDropout\u001b[0m\u001b[0;34m(\u001b[0m\u001b[0;36m0.5\u001b[0m\u001b[0;34m)\u001b[0m\u001b[0;34m)\u001b[0m\u001b[0;34m\u001b[0m\u001b[0;34m\u001b[0m\u001b[0m\n\u001b[1;32m     14\u001b[0m \u001b[0mmodel\u001b[0m\u001b[0;34m.\u001b[0m\u001b[0madd\u001b[0m\u001b[0;34m(\u001b[0m\u001b[0mMaxPooling2D\u001b[0m\u001b[0;34m(\u001b[0m\u001b[0;34m(\u001b[0m\u001b[0;36m2\u001b[0m\u001b[0;34m,\u001b[0m \u001b[0;36m2\u001b[0m\u001b[0;34m)\u001b[0m\u001b[0;34m)\u001b[0m\u001b[0;34m)\u001b[0m\u001b[0;34m\u001b[0m\u001b[0;34m\u001b[0m\u001b[0m\n\u001b[0;32m---> 15\u001b[0;31m \u001b[0mmodel\u001b[0m\u001b[0;34m.\u001b[0m\u001b[0madd\u001b[0m\u001b[0;34m(\u001b[0m\u001b[0mGlobalMaxPooling2D\u001b[0m\u001b[0;34m(\u001b[0m\u001b[0;34m)\u001b[0m\u001b[0;34m)\u001b[0m\u001b[0;34m\u001b[0m\u001b[0;34m\u001b[0m\u001b[0m\n\u001b[0m\u001b[1;32m     16\u001b[0m \u001b[0mmodel\u001b[0m\u001b[0;34m.\u001b[0m\u001b[0madd\u001b[0m\u001b[0;34m(\u001b[0m\u001b[0mDense\u001b[0m\u001b[0;34m(\u001b[0m\u001b[0mnum_classes\u001b[0m\u001b[0;34m,\u001b[0m \u001b[0mactivation\u001b[0m\u001b[0;34m=\u001b[0m\u001b[0;34m'softmax'\u001b[0m\u001b[0;34m)\u001b[0m\u001b[0;34m)\u001b[0m\u001b[0;34m\u001b[0m\u001b[0;34m\u001b[0m\u001b[0m\n\u001b[1;32m     17\u001b[0m \u001b[0mmodel\u001b[0m\u001b[0;34m.\u001b[0m\u001b[0mcompile\u001b[0m\u001b[0;34m(\u001b[0m\u001b[0moptimizer\u001b[0m\u001b[0;34m=\u001b[0m\u001b[0;34m'adam'\u001b[0m\u001b[0;34m,\u001b[0m \u001b[0mloss\u001b[0m\u001b[0;34m=\u001b[0m\u001b[0;34m'categorical_crossentropy'\u001b[0m\u001b[0;34m,\u001b[0m \u001b[0mmetrics\u001b[0m\u001b[0;34m=\u001b[0m\u001b[0;34m[\u001b[0m\u001b[0;34m'accuracy'\u001b[0m\u001b[0;34m]\u001b[0m\u001b[0;34m)\u001b[0m\u001b[0;34m\u001b[0m\u001b[0;34m\u001b[0m\u001b[0m\n",
            "\u001b[0;31mNameError\u001b[0m: name 'GlobalMaxPooling2D' is not defined"
          ]
        }
      ]
    },
    {
      "cell_type": "markdown",
      "source": [
        "Обучение не запустилось, не импортирован используемый в архитектуре модели слой. Попросим ChatGPT исправить ошибку:"
      ],
      "metadata": {
        "id": "pIR3srLMLi9Z"
      }
    },
    {
      "cell_type": "markdown",
      "source": [
        "## Запрос № 7 к ChatGPT:\n",
        "\n",
        "При выполнении кода получаем ошибку NameError: name 'GlobalMaxPooling2D' is not defined. Исправь"
      ],
      "metadata": {
        "id": "E2JHz4f6L4Lo"
      }
    },
    {
      "cell_type": "markdown",
      "source": [
        "## Ответ ChatGPT:"
      ],
      "metadata": {
        "id": "_8JmemjWQkIt"
      }
    },
    {
      "cell_type": "markdown",
      "source": [
        "*Эта ошибка возникает из-за того, что класс GlobalMaxPooling2D не импортирован из модуля keras. Чтобы исправить это, необходимо добавить следующую строку кода в начало файла:*\n",
        "\n",
        "from keras.layers import GlobalMaxPooling2D"
      ],
      "metadata": {
        "id": "ejJxWrn6M0ir"
      }
    },
    {
      "cell_type": "code",
      "source": [
        "from keras.layers import GlobalMaxPooling2D\n",
        "# Создаем более мощную модель\n",
        "model = Sequential()\n",
        "model.add(Conv2D(32, (3, 3), activation='relu', input_shape=(64, 64, 3)))\n",
        "model.add(BatchNormalization())\n",
        "model.add(Dropout(0.2))\n",
        "model.add(MaxPooling2D((2, 2)))\n",
        "model.add(Conv2D(64, (3, 3), activation='relu'))\n",
        "model.add(BatchNormalization())\n",
        "model.add(Dropout(0.2))\n",
        "model.add(MaxPooling2D((2, 2)))\n",
        "model.add(Conv2D(128, (3, 3), activation='relu'))\n",
        "model.add(BatchNormalization())\n",
        "model.add(Dropout(0.2))\n",
        "model.add(GlobalMaxPooling2D())\n",
        "model.add(Dense(num_classes, activation='softmax'))\n",
        "model.compile(optimizer='adam', loss='categorical_crossentropy', metrics=['accuracy'])\n",
        "\n",
        "# Обучаем модель\n",
        "history = model.fit(X_train, y_train, epochs=10, batch_size=32, validation_data=(X_test, y_test))\n",
        "\n",
        "# Рисуем график точности по эпохам обучения\n",
        "plt.plot(history.history['val_accuracy'])\n",
        "plt.title('Model accuracy with GlobalMaxPooling2D')\n",
        "plt.ylabel('Accuracy')\n",
        "plt.xlabel('Epoch')\n",
        "plt.legend(['Validation'], loc='upper left')\n",
        "plt.show()\n"
      ],
      "metadata": {
        "colab": {
          "base_uri": "https://localhost:8080/",
          "height": 660
        },
        "id": "3jvzi6P_HuIk",
        "outputId": "607ee84c-9fa7-4c8a-f599-9a347cbeb8ba"
      },
      "execution_count": null,
      "outputs": [
        {
          "output_type": "stream",
          "name": "stdout",
          "text": [
            "Epoch 1/10\n",
            "75/75 [==============================] - 30s 383ms/step - loss: 2.7373 - accuracy: 0.2467 - val_loss: 2.8840 - val_accuracy: 0.1017\n",
            "Epoch 2/10\n",
            "75/75 [==============================] - 29s 393ms/step - loss: 1.4216 - accuracy: 0.5029 - val_loss: 3.2346 - val_accuracy: 0.1183\n",
            "Epoch 3/10\n",
            "75/75 [==============================] - 29s 391ms/step - loss: 0.9979 - accuracy: 0.6546 - val_loss: 3.2536 - val_accuracy: 0.1517\n",
            "Epoch 4/10\n",
            "75/75 [==============================] - 36s 479ms/step - loss: 0.7190 - accuracy: 0.7638 - val_loss: 3.0229 - val_accuracy: 0.2033\n",
            "Epoch 5/10\n",
            "75/75 [==============================] - 36s 482ms/step - loss: 0.5577 - accuracy: 0.8112 - val_loss: 2.6622 - val_accuracy: 0.3033\n",
            "Epoch 6/10\n",
            "75/75 [==============================] - 34s 447ms/step - loss: 0.4241 - accuracy: 0.8567 - val_loss: 2.0211 - val_accuracy: 0.3917\n",
            "Epoch 7/10\n",
            "75/75 [==============================] - 35s 467ms/step - loss: 0.3459 - accuracy: 0.8858 - val_loss: 1.5097 - val_accuracy: 0.5033\n",
            "Epoch 8/10\n",
            "75/75 [==============================] - 32s 426ms/step - loss: 0.3094 - accuracy: 0.8908 - val_loss: 1.1890 - val_accuracy: 0.5850\n",
            "Epoch 9/10\n",
            "75/75 [==============================] - 37s 499ms/step - loss: 0.2355 - accuracy: 0.9217 - val_loss: 0.7773 - val_accuracy: 0.7450\n",
            "Epoch 10/10\n",
            "75/75 [==============================] - 37s 495ms/step - loss: 0.2006 - accuracy: 0.9354 - val_loss: 0.3678 - val_accuracy: 0.8933\n"
          ]
        },
        {
          "output_type": "display_data",
          "data": {
            "text/plain": [
              "<Figure size 432x288 with 1 Axes>"
            ],
            "image/png": "[encoded data removed]"
          },
          "metadata": {
            "needs_background": "light"
          }
        }
      ]
    },
    {
      "cell_type": "markdown",
      "source": [
        "Все наши \"пожелания\" учтены, модель обучается на нужных нам параметрах, хотя, следует отметить, что архитектура модели, предложенная ChatGPT в самом начале, явно показывает лучную точность на проверочной выборке, чем результаты наших экспериментов, хотя попробовать стоило. "
      ],
      "metadata": {
        "id": "SeI6mHGONJLV"
      }
    },
    {
      "cell_type": "markdown",
      "source": [
        "## Выводы:\n",
        "1. Благодара ChatGPT можно вообще обойтись без написания кода. Однако необходимо давать подробные инструкции, как \"устроены\" наши данные, в каком они формате, что содержат, и как их следует подготавливать. \n",
        "\n",
        "2. Порой ChatGPT все же допускает неточности - может забыть импортировать библиотеку или слой, это легко исправляется - достаточно написать в ChatGPT содержание ошибки и попросить исправить - будет предложено 1 или несколько вариантов, как решить проблему.\n",
        "\n",
        "3. Необходимо внимательно просматривать код, предложенный ChatGPT, на предмет того, получили ли мы желаемый результат.  Код может срабатывать, но из-за неточных инструкций выдавать не то, что от него ожидается.\n",
        "\n",
        "4. Чат достаточно часто вылетает, но это не проблема - достаточно перезагрузить страницу либо еще раз зайти в нужный чат - не обязательно начинать \"с нуля\".\n",
        "\n",
        "5.  Важно всегда в сообщениях любым образом показывать, что нужно именно продолжить уже начатый код, иначе chatGPT  может потерять нить и не учесть, что было уже сделано. \n",
        "\n",
        "6. Можно запросить подробные комментарии к коду - и ChatGPT разъяснит каждую строчку или операцию - очень удобно для начинающих программистов.\n",
        "\n",
        "7. Имеет смысл избегать команд \"скачай\" или \"загрузи\", заменив их на \"напиши код для скачивания архива\", например, в противном случае, chatGPT  может ответить, что не умеет ничего скачивать и напишет базовые рекомендации."
      ],
      "metadata": {
        "id": "axkf3MK7HKbM"
      }
    },
    {
      "cell_type": "code",
      "source": [],
      "metadata": {
        "id": "HTckbJl3OfGD"
      },
      "execution_count": null,
      "outputs": []
    },
    {
      "cell_type": "code",
      "source": [],
      "metadata": {
        "id": "_mQbRemVOfIr"
      },
      "execution_count": null,
      "outputs": []
    },
    {
      "cell_type": "code",
      "source": [],
      "metadata": {
        "id": "8fVyx58zOfOL"
      },
      "execution_count": null,
      "outputs": []
    },
    {
      "cell_type": "code",
      "source": [],
      "metadata": {
        "id": "FSKAiw2gOfQ7"
      },
      "execution_count": null,
      "outputs": []
    },
    {
      "cell_type": "code",
      "source": [
        "import tensorflow as tf\n",
        "from tensorflow.keras.applications import VGG19\n",
        "from tensorflow.keras.layers import Dense, Flatten\n",
        "from tensorflow.keras.models import Model\n",
        "from tensorflow.keras.datasets import cifar100\n",
        "from tensorflow.keras.utils import to_categorical\n",
        "import matplotlib.pyplot as plt\n",
        "\n",
        "# Загрузка данных\n",
        "(x_train, y_train), (x_test, y_test) = cifar100.load_data()\n",
        "\n",
        "# Предобработка данных\n",
        "x_train = x_train / 255.0\n",
        "x_test = x_test / 255.0\n",
        "\n",
        "y_train = to_categorical(y_train, num_classes=100)\n",
        "y_test = to_categorical(y_test, num_classes=100)\n",
        "\n",
        "# VGG19 модель\n",
        "vgg19 = VGG19(weights='imagenet', include_top=False, input_shape=(32, 32, 3))\n",
        "\n",
        "# Добавляем последние слои\n",
        "x = Flatten()(vgg19.output)\n",
        "x = Dense(128, activation='relu')(x)\n",
        "x = Dense(100, activation='softmax')(x)\n",
        "\n",
        "# Создаем модель\n",
        "model = Model(inputs=vgg19.input, outputs=x)\n",
        "\n",
        "# Компиляция модели\n",
        "model.compile(loss='categorical_crossentropy', optimizer='adam', metrics=['accuracy'])\n",
        "\n",
        "# Обучение модели\n",
        "history = model.fit(x_train, y_train, validation_data=(x_test, y_test), epochs=20)\n",
        "\n",
        "# Вывод графиков\n",
        "plt.plot(history.history['accuracy'], label='accuracy')\n",
        "plt.plot(history.history['val_accuracy'], label = 'val_accuracy')\n",
        "plt.xlabel('Epoch')\n",
        "plt.ylabel('Accuracy')\n",
        "plt.ylim([0.5, 1])\n",
        "plt.legend(loc='lower right')\n",
        "\n",
        "test_loss, test_acc = model.evaluate(x_test,  y_test, verbose=2)\n"
      ],
      "metadata": {
        "id": "C79RMecPD-II"
      },
      "execution_count": null,
      "outputs": []
    }
  ]
}